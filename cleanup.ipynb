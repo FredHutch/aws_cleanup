{
 "cells": [
  {
   "cell_type": "markdown",
   "metadata": {},
   "source": [
    "# Cleaning up and tagging AMIs, snapshots and volumes associated with AWS Batch\n",
    "\n",
    "# WARNING: DO **NOT** RUN ALL CELLS AUTOMATICALLY. READ THROUGH THE TEXT OR YOU MAY DELETE SOMETHING IMPORTANT!\n",
    "\n",
    "Set up clients"
   ]
  },
  {
   "cell_type": "code",
   "execution_count": 49,
   "metadata": {},
   "outputs": [],
   "source": [
    "import boto3\n",
    "from botocore.exceptions import ClientError\n",
    "\n",
    "batch = boto3.client(\"batch\")\n",
    "ec2 = boto3.client(\"ec2\")\n"
   ]
  },
  {
   "cell_type": "markdown",
   "metadata": {},
   "source": [
    " Find out which AMIs Batch actually uses. Note that more than one Batch compute environment uses the same AMI, so we remove duplicates by converting `batch_amis` to a `set` and then back to a `list`."
   ]
  },
  {
   "cell_type": "code",
   "execution_count": 15,
   "metadata": {},
   "outputs": [
    {
     "name": "stdout",
     "output_type": "stream",
     "text": [
      "['ami-fd6dae85', 'ami-07b385342c44f150a', 'ami-40e03038', 'ami-2327865b', 'ami-63a0ea1b', 'ami-07b385342c44f150a', 'ami-0d8f32ba95357dc9f', 'ami-0334b3e09dd001f8e', 'ami-4ba2f333', 'ami-c9ce1eb1', 'ami-fd6dae85', 'ami-cab4feb2', 'ami-0334b3e09dd001f8e', 'ami-083c40aa53398f984']\n",
      "14\n",
      "11\n"
     ]
    },
    {
     "data": {
      "text/plain": [
       "11"
      ]
     },
     "execution_count": 15,
     "metadata": {},
     "output_type": "execute_result"
    }
   ],
   "source": [
    "envs = batch.describe_compute_environments()['computeEnvironments']\n",
    "batch_amis = [x['computeResources']['imageId'] for x in envs if 'imageId' in x['computeResources']]\n",
    "print(batch_amis)\n",
    "print(len(batch_amis))\n",
    "print(len(set(batch_amis)))\n",
    "batch_amis = list(set(batch_amis))\n"
   ]
  },
  {
   "cell_type": "markdown",
   "metadata": {},
   "source": [
    "Which AMIs in EC2 are associated with Batch?\n",
    "\n",
    "There is no automated way to find out. We rely on the fact that the AMIs have names and descriptions that include the word \"batch\". However, **a human must review this list** before proceeding further. **Otherwise, you could end up \n",
    "deleting resources that should not be deleted**.\n",
    "\n",
    "First, look at all image names, along with their IDs:"
   ]
  },
  {
   "cell_type": "code",
   "execution_count": 28,
   "metadata": {},
   "outputs": [
    {
     "name": "stdout",
     "output_type": "stream",
     "text": [
      "47\n",
      "ami-0334b3e09dd001f8e\tGPU-enabled AMI for Batch 201808301031\n",
      "ami-0546947d\tTrainingAnalysis3-clone\n",
      "ami-07b385342c44f150a\taws-batch-image-with-sminot-refdbs-and-scratch-201809061525\n",
      "ami-083c40aa53398f984\tGPU-enabled AMI for Batch 201809071234\n",
      "ami-08c4d1a439ca1082f\tGPU-enabled AMI for Batch 201808310947\n",
      "ami-0bb2a97b2098506ad\tGPU-enabled AMI for Batch 201808301331\n",
      "ami-0d615f55b7ffd97c2\tGPU-enabled AMI for Batch 201808161415\n",
      "ami-0d8f32ba95357dc9f\tGPU-enabled AMI for Batch 201808171141\n",
      "ami-0e7505f639c668593\tGPU-enabled AMI for Batch 201808301357\n",
      "ami-10fa6270\tdr-avere-2\n",
      "ami-13f96173\tdr-avere-1\n",
      "ami-2327865b\tGPU-enabled AMI for Batch 201712141141\n",
      "ami-2c107d4c\tubuntu1604-ENA\n",
      "ami-2cc65e4c\tdr-avere-3\n",
      "ami-3149d151\tcloudburst-avere-2\n",
      "ami-33f4384b\taws-hsesbx-testfortinet-1-fw_fullconfig-image-5.4.5\n",
      "ami-3d07e545\tBrat-Super-Secure\n",
      "ami-449f543c\taws-hsepro-1-fw_fullconfig-image-5.4.5\n",
      "ami-4ba2f333\tGPU-enabled AMI for Batch 201807091006\n",
      "ami-4ec03936\tubuntu/images/hvm-ssd/ubuntu-xenial-16.04-amd64-server-20170721\n",
      "ami-5c8d193c\taws-logrelay02-prd\n",
      "ami-63a0ea1b\tubuntu-deep-learning-ami-10.0-for-batch-201806291507\n",
      "ami-6557cf05\tcloudburst-avere-1\n",
      "ami-669c361e\taws-batch-image-with-sminot-refdbs-and-scratch-201801042032\n",
      "ami-6e008016\taws-batch-image-with-sminot-refdbs-and-scratch-201802131338\n",
      "ami-70bd4508\tamzn-fh-scoring-worker-tensorflow\n",
      "ami-7b28f903\taws-batch-image-with-sminot-refdbs\n",
      "ami-818e62f9\tFH-Curator_Confidence_Score_Worker_v0.4\n",
      "ami-845a3ce4\tnlp-brat-prod\n",
      "ami-8a575cf3\tsbx-fw-test-02_conf-image-5.2.10\n",
      "ami-8d81faf5\tFGTAWS000B3908BA_20180529_1001_AWS_hsesandbox_v5.6.0-build7689_baseline\n",
      "ami-909f54e8\taws-hsepro-1-fw_fullconfig-image-5.4.5_take2\n",
      "ami-99b63ee1\taws-batch-image-with-sminot-refdbs-and-scratch-20180271822\n",
      "ami-9be724e3\tBratServer-AuthFull\n",
      "ami-b146b4c9\tfh-tf-scoring-machine\n",
      "ami-b857ffc0\taws-batch-image-with-sminot-refdbs-and-scratch-201801011818\n",
      "ami-bd5177c5\tECS image with 4TB non-encrypted scratch at /scratch. Created at 201808071644\n",
      "ami-bd8c02c5\taws-batch-image-with-sminot-refdbs-and-scratch-201802231222\n",
      "ami-c036d2b8\thse-protector-a\n",
      "ami-ca38dcb2\thse-dmz-guarddog-a\n",
      "ami-cab4feb2\tubuntu-deep-learning-ami-10.0-for-batch-201806291829\n",
      "ami-ce5f54b7\tsbx-fw-test-02_base-image-5.2.10\n",
      "ami-cfe19cb7\tECS image with 1TB non-encrypted scratch at /scratch. Created at 201805171130\n",
      "ami-d94ad2b9\tcloudburst-avere-3\n",
      "ami-f2df1e8a\tBratServer baseline\n",
      "ami-f3129293\tsyslogrelay-backup\n",
      "ami-f875f598\topenspecimen-registry\n"
     ]
    }
   ],
   "source": [
    "ec2_amis = ec2.describe_images(Owners=['self'])['Images']\n",
    "print(len(ec2_amis))\n",
    "for x in ec2_amis:\n",
    "    if 'Name' in x:\n",
    "        print(\"{}\\t{}\".format(x['ImageId'], x['Name']))"
   ]
  },
  {
   "cell_type": "markdown",
   "metadata": {},
   "source": [
    "\n",
    "\n",
    "Also, some of the AMIs used by batch (`batch_amis`) are in a different AWS account (the SciComp account). Let's remove those. (Note that this notebook or similar code should also be run in that account in order to remove unused resources there.)"
   ]
  },
  {
   "cell_type": "code",
   "execution_count": 16,
   "metadata": {},
   "outputs": [
    {
     "name": "stdout",
     "output_type": "stream",
     "text": [
      "3\n"
     ]
    },
    {
     "data": {
      "text/plain": [
       "8"
      ]
     },
     "execution_count": 16,
     "metadata": {},
     "output_type": "execute_result"
    }
   ],
   "source": [
    "# out of batch_amis, which ones are not in ec2_amis?\n",
    "ec2_ami_id_list = set([x['ImageId'] for x in ec2_amis])\n",
    "foreign = set(batch_amis) - ec2_ami_id_list\n",
    "print(len(foreign))\n",
    "foreign\n",
    "batch_amis = list(set(batch_amis) - foreign) \n",
    "len(batch_amis)"
   ]
  },
  {
   "cell_type": "markdown",
   "metadata": {},
   "source": [
    "Probably it's safe to include all images whose names contain \"batch\" (lowercase), plus the one called \"ECS image with 4TB non-encrypted scratch at /scratch. Created at 201808071644\". (The giveaway is that scratch space is a concept in AWS Batch). \n",
    "So let's make a smaller candidate list of all of these."
   ]
  },
  {
   "cell_type": "code",
   "execution_count": 17,
   "metadata": {},
   "outputs": [
    {
     "name": "stdout",
     "output_type": "stream",
     "text": [
      "19\n"
     ]
    }
   ],
   "source": [
    "candidates = [x for x in ec2_amis if 'Description' in x and 'batch' in x['Description'].lower()]\n",
    "\n",
    "candidates.extend([x for x in ec2_amis if x['ImageId'] == 'ami-bd5177c5'])\n",
    "print(len(candidates))"
   ]
  },
  {
   "cell_type": "markdown",
   "metadata": {},
   "source": [
    "Now find all the members of `candidates` whose IDs are **NOT** in `batch_amis`. These **should** be safe to remove.\n"
   ]
  },
  {
   "cell_type": "code",
   "execution_count": 26,
   "metadata": {},
   "outputs": [
    {
     "name": "stdout",
     "output_type": "stream",
     "text": [
      "11\n",
      "GPU-enabled AMI for Batch 201808310947\n",
      "GPU-enabled AMI for Batch 201808301331\n",
      "GPU-enabled AMI for Batch 201808161415\n",
      "GPU-enabled AMI for Batch 201808301357\n",
      "aws-batch-image-with-sminot-refdbs-and-scratch-201801042032\n",
      "aws-batch-image-with-sminot-refdbs-and-scratch-201802131338\n",
      "aws-batch-image-with-sminot-refdbs\n",
      "aws-batch-image-with-sminot-refdbs-and-scratch-20180271822\n",
      "aws-batch-image-with-sminot-refdbs-and-scratch-201801011818\n",
      "aws-batch-image-with-sminot-refdbs-and-scratch-201802231222\n",
      "ECS image with 4TB non-encrypted scratch at /scratch. Created at 201808071644\n",
      "11\n"
     ]
    }
   ],
   "source": [
    "unused = [x for x in candidates if x['ImageId'] not in batch_amis]\n",
    "print(len(unused))\n",
    "\n",
    "for x in unused:\n",
    "    print(x['Name'])\n"
   ]
  },
  {
   "cell_type": "markdown",
   "metadata": {},
   "source": [
    "OK, there were 19 candidates, and 11 which are not in `batch_amis`, a difference of 8 which is the length of `batch_amis`. So it does seem safe to delete the AMIs in `unused`."
   ]
  },
  {
   "cell_type": "markdown",
   "metadata": {},
   "source": [
    "## Snapshots\n",
    "\n",
    "Before we delete anything, let's look at what snapshots are associated with the AMIs we are going to delete.\n",
    "\n",
    "Just in case, we'll also collect information on the volumes associated with those snapshots, which may or may not exist.\n"
   ]
  },
  {
   "cell_type": "code",
   "execution_count": 33,
   "metadata": {},
   "outputs": [
    {
     "data": {
      "text/plain": [
       "{'Description': 'Created by CreateImage(i-012e27bb0fcebc688) for ami-10fa6270 from vol-077ddf5ff6906b85c',\n",
       " 'Encrypted': False,\n",
       " 'OwnerId': '064561331775',\n",
       " 'Progress': '100%',\n",
       " 'SnapshotId': 'snap-170fce52',\n",
       " 'StartTime': datetime.datetime(2017, 5, 1, 20, 32, 55, tzinfo=tzutc()),\n",
       " 'State': 'completed',\n",
       " 'VolumeId': 'vol-077ddf5ff6906b85c',\n",
       " 'VolumeSize': 200}"
      ]
     },
     "execution_count": 33,
     "metadata": {},
     "output_type": "execute_result"
    }
   ],
   "source": [
    "all_snaps = ec2.describe_snapshots(OwnerIds=['self'])['Snapshots']"
   ]
  },
  {
   "cell_type": "markdown",
   "metadata": {},
   "source": [
    "Let's collect the ones that are associated with the AMIs in `unused`."
   ]
  },
  {
   "cell_type": "code",
   "execution_count": 41,
   "metadata": {},
   "outputs": [
    {
     "name": "stdout",
     "output_type": "stream",
     "text": [
      "37\n"
     ]
    },
    {
     "data": {
      "text/plain": [
       "{'Description': 'Created by CreateImage(i-0c5dd1d75d7b00467) for ami-99b63ee1 from vol-0ce025ee4254b1e8f',\n",
       " 'Encrypted': False,\n",
       " 'OwnerId': '064561331775',\n",
       " 'Progress': '100%',\n",
       " 'SnapshotId': 'snap-014b86838e991ca0a',\n",
       " 'StartTime': datetime.datetime(2018, 2, 28, 2, 22, 37, tzinfo=tzutc()),\n",
       " 'State': 'completed',\n",
       " 'VolumeId': 'vol-0ce025ee4254b1e8f',\n",
       " 'VolumeSize': 22}"
      ]
     },
     "execution_count": 41,
     "metadata": {},
     "output_type": "execute_result"
    }
   ],
   "source": [
    "unused_amis = [x['ImageId'] for x in unused] # easier to work with a list of IDs only\n",
    "unused_snaps = []\n",
    "for snap in all_snaps:\n",
    "    for ami in unused_amis:\n",
    "        if ami in snap['Description']:\n",
    "            unused_snaps.append(snap)\n",
    "            break\n",
    "print(len(unused_snaps))\n",
    "unused_snaps[0]\n"
   ]
  },
  {
   "cell_type": "markdown",
   "metadata": {},
   "source": [
    "### Finally, deleting stuff.\n"
   ]
  },
  {
   "cell_type": "code",
   "execution_count": 43,
   "metadata": {},
   "outputs": [],
   "source": [
    "for ami in unused_amis:\n",
    "    ec2.deregister_image(ImageId=ami)"
   ]
  },
  {
   "cell_type": "code",
   "execution_count": 45,
   "metadata": {},
   "outputs": [],
   "source": [
    "for snap in unused_snaps:\n",
    "    ec2.delete_snapshot(SnapshotId=snap['SnapshotId'])"
   ]
  },
  {
   "cell_type": "code",
   "execution_count": 54,
   "metadata": {},
   "outputs": [
    {
     "name": "stdout",
     "output_type": "stream",
     "text": [
      "Done\n"
     ]
    }
   ],
   "source": [
    "unused_volumes = []\n",
    "for snap in unused_snaps:\n",
    "    unused_volumes.append(snap['VolumeId'])\n",
    "\n",
    "# find out which volumes in unused_volumes actually exist:\n",
    "existing_unused_volumes = []\n",
    "\n",
    "for vol in unused_volumes:\n",
    "    try:\n",
    "        res = ec2.describe_volumes(VolumeIds=[vol])\n",
    "        existing_unused_volumes.append(vol)\n",
    "    except ClientError:\n",
    "        pass\n",
    "    \n",
    "# and delete them:\n",
    "\n",
    "for vol in existing_unused_volumes:\n",
    "    ec2.delete_volume(VolumeId=vol)\n",
    "print(\"Done\")"
   ]
  },
  {
   "cell_type": "code",
   "execution_count": null,
   "metadata": {},
   "outputs": [],
   "source": []
  }
 ],
 "metadata": {
  "kernelspec": {
   "display_name": "Python 3",
   "language": "python",
   "name": "python3"
  },
  "language_info": {
   "codemirror_mode": {
    "name": "ipython",
    "version": 3
   },
   "file_extension": ".py",
   "mimetype": "text/x-python",
   "name": "python",
   "nbconvert_exporter": "python",
   "pygments_lexer": "ipython3",
   "version": "3.6.0"
  }
 },
 "nbformat": 4,
 "nbformat_minor": 2
}
