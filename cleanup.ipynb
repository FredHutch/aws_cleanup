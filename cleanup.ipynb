{
 "cells": [
  {
   "cell_type": "markdown",
   "metadata": {},
   "source": [
    "# Cleaning up and tagging AMIs, snapshots and volumes associated with AWS Batch\n",
    "\n",
    "# WARNING: DO **NOT** RUN ALL CELLS AUTOMATICALLY. READ THROUGH THE TEXT OR YOU MAY DELETE SOMETHING IMPORTANT!\n",
    "\n",
    "Set up clients"
   ]
  },
  {
   "cell_type": "code",
   "execution_count": 1,
   "metadata": {},
   "outputs": [],
   "source": [
    "import boto3\n",
    "\n",
    "batch = boto3.client(\"batch\")\n",
    "ec2 = boto3.client(\"ec2\")\n"
   ]
  },
  {
   "cell_type": "markdown",
   "metadata": {},
   "source": [
    " Find out which AMIs Batch actually uses."
   ]
  },
  {
   "cell_type": "code",
   "execution_count": 2,
   "metadata": {},
   "outputs": [
    {
     "name": "stdout",
     "output_type": "stream",
     "text": [
      "['ami-fd6dae85', 'ami-07b385342c44f150a', 'ami-40e03038', 'ami-2327865b', 'ami-63a0ea1b', 'ami-07b385342c44f150a', 'ami-0d8f32ba95357dc9f', 'ami-0334b3e09dd001f8e', 'ami-4ba2f333', 'ami-c9ce1eb1', 'ami-fd6dae85', 'ami-cab4feb2', 'ami-0334b3e09dd001f8e', 'ami-083c40aa53398f984']\n",
      "14\n"
     ]
    }
   ],
   "source": [
    "envs = batch.describe_compute_environments()['computeEnvironments']\n",
    "batch_amis = [x['computeResources']['imageId'] for x in envs if 'imageId' in x['computeResources']]\n",
    "print(batch_amis)\n",
    "print(len(batch_amis))"
   ]
  },
  {
   "cell_type": "markdown",
   "metadata": {},
   "source": [
    "Which AMIs in EC2 are associated with Batch?\n",
    "\n",
    "There is no automated way to find out. We rely on the fact that the AMIs have names and descriptions that include the word \"batch\". However, **a human must review this list** before proceeding further. **Otherwise, you could end up \n",
    "deleting resources that should not be deleted**.\n",
    "\n",
    "First, look at all image names, along with their IDs:"
   ]
  },
  {
   "cell_type": "code",
   "execution_count": 3,
   "metadata": {},
   "outputs": [
    {
     "name": "stdout",
     "output_type": "stream",
     "text": [
      "47\n",
      "ami-0334b3e09dd001f8e\tGPU-enabled AMI for Batch 201808301031\n",
      "ami-0546947d\tTrainingAnalysis3-clone\n",
      "ami-07b385342c44f150a\taws-batch-image-with-sminot-refdbs-and-scratch-201809061525\n",
      "ami-083c40aa53398f984\tGPU-enabled AMI for Batch 201809071234\n",
      "ami-08c4d1a439ca1082f\tGPU-enabled AMI for Batch 201808310947\n",
      "ami-0bb2a97b2098506ad\tGPU-enabled AMI for Batch 201808301331\n",
      "ami-0d615f55b7ffd97c2\tGPU-enabled AMI for Batch 201808161415\n",
      "ami-0d8f32ba95357dc9f\tGPU-enabled AMI for Batch 201808171141\n",
      "ami-0e7505f639c668593\tGPU-enabled AMI for Batch 201808301357\n",
      "ami-10fa6270\tdr-avere-2\n",
      "ami-13f96173\tdr-avere-1\n",
      "ami-2327865b\tGPU-enabled AMI for Batch 201712141141\n",
      "ami-2c107d4c\tubuntu1604-ENA\n",
      "ami-2cc65e4c\tdr-avere-3\n",
      "ami-3149d151\tcloudburst-avere-2\n",
      "ami-33f4384b\taws-hsesbx-testfortinet-1-fw_fullconfig-image-5.4.5\n",
      "ami-3d07e545\tBrat-Super-Secure\n",
      "ami-449f543c\taws-hsepro-1-fw_fullconfig-image-5.4.5\n",
      "ami-4ba2f333\tGPU-enabled AMI for Batch 201807091006\n",
      "ami-4ec03936\tubuntu/images/hvm-ssd/ubuntu-xenial-16.04-amd64-server-20170721\n",
      "ami-5c8d193c\taws-logrelay02-prd\n",
      "ami-63a0ea1b\tubuntu-deep-learning-ami-10.0-for-batch-201806291507\n",
      "ami-6557cf05\tcloudburst-avere-1\n",
      "ami-669c361e\taws-batch-image-with-sminot-refdbs-and-scratch-201801042032\n",
      "ami-6e008016\taws-batch-image-with-sminot-refdbs-and-scratch-201802131338\n",
      "ami-70bd4508\tamzn-fh-scoring-worker-tensorflow\n",
      "ami-7b28f903\taws-batch-image-with-sminot-refdbs\n",
      "ami-818e62f9\tFH-Curator_Confidence_Score_Worker_v0.4\n",
      "ami-845a3ce4\tnlp-brat-prod\n",
      "ami-8a575cf3\tsbx-fw-test-02_conf-image-5.2.10\n",
      "ami-8d81faf5\tFGTAWS000B3908BA_20180529_1001_AWS_hsesandbox_v5.6.0-build7689_baseline\n",
      "ami-909f54e8\taws-hsepro-1-fw_fullconfig-image-5.4.5_take2\n",
      "ami-99b63ee1\taws-batch-image-with-sminot-refdbs-and-scratch-20180271822\n",
      "ami-9be724e3\tBratServer-AuthFull\n",
      "ami-b146b4c9\tfh-tf-scoring-machine\n",
      "ami-b857ffc0\taws-batch-image-with-sminot-refdbs-and-scratch-201801011818\n",
      "ami-bd5177c5\tECS image with 4TB non-encrypted scratch at /scratch. Created at 201808071644\n",
      "ami-bd8c02c5\taws-batch-image-with-sminot-refdbs-and-scratch-201802231222\n",
      "ami-c036d2b8\thse-protector-a\n",
      "ami-ca38dcb2\thse-dmz-guarddog-a\n",
      "ami-cab4feb2\tubuntu-deep-learning-ami-10.0-for-batch-201806291829\n",
      "ami-ce5f54b7\tsbx-fw-test-02_base-image-5.2.10\n",
      "ami-cfe19cb7\tECS image with 1TB non-encrypted scratch at /scratch. Created at 201805171130\n",
      "ami-d94ad2b9\tcloudburst-avere-3\n",
      "ami-f2df1e8a\tBratServer baseline\n",
      "ami-f3129293\tsyslogrelay-backup\n",
      "ami-f875f598\topenspecimen-registry\n"
     ]
    }
   ],
   "source": [
    "ec2_amis = ec2.describe_images(Owners=['self'])['Images']\n",
    "print(len(ec2_amis))\n",
    "for x in ec2_amis:\n",
    "    if 'Name' in x:\n",
    "        print(\"{}\\t{}\".format(x['ImageId'], x['Name']))"
   ]
  },
  {
   "cell_type": "markdown",
   "metadata": {},
   "source": [
    "Probably it's safe to include all images whose names contain \"batch\" (lowercase), plus the one called \"ECS image with 4TB non-encrypted scratch at /scratch. Created at 201808071644\". (The giveaway is that scratch space is a concept in AWS Batch). \n",
    "So let's make a smaller candidate list of all of these."
   ]
  },
  {
   "cell_type": "code",
   "execution_count": 4,
   "metadata": {},
   "outputs": [
    {
     "name": "stdout",
     "output_type": "stream",
     "text": [
      "19\n"
     ]
    }
   ],
   "source": [
    "candidates = [x for x in ec2_amis if 'Description' in x and 'batch' in x['Description'].lower()]\n",
    "\n",
    "candidates.extend([x for x in ec2_amis if x['ImageId'] == 'ami-bd5177c5'])\n",
    "print(len(candidates))"
   ]
  },
  {
   "cell_type": "markdown",
   "metadata": {},
   "source": [
    "Now find all the members of `candidates` whose IDs are **NOT** in `batch_amis`. These **should** be safe to remove.\n"
   ]
  },
  {
   "cell_type": "code",
   "execution_count": 5,
   "metadata": {},
   "outputs": [
    {
     "name": "stdout",
     "output_type": "stream",
     "text": [
      "11\n",
      "GPU-enabled AMI for Batch 201808310947\n",
      "GPU-enabled AMI for Batch 201808301331\n",
      "GPU-enabled AMI for Batch 201808161415\n",
      "GPU-enabled AMI for Batch 201808301357\n",
      "aws-batch-image-with-sminot-refdbs-and-scratch-201801042032\n",
      "aws-batch-image-with-sminot-refdbs-and-scratch-201802131338\n",
      "aws-batch-image-with-sminot-refdbs\n",
      "aws-batch-image-with-sminot-refdbs-and-scratch-20180271822\n",
      "aws-batch-image-with-sminot-refdbs-and-scratch-201801011818\n",
      "aws-batch-image-with-sminot-refdbs-and-scratch-201802231222\n",
      "ECS image with 4TB non-encrypted scratch at /scratch. Created at 201808071644\n"
     ]
    }
   ],
   "source": [
    "unused = [x for x in candidates if x['ImageId'] not in batch_amis]\n",
    "print(len(unused))\n",
    "for x in unused:\n",
    "    print(x['Name'])"
   ]
  },
  {
   "cell_type": "code",
   "execution_count": 6,
   "metadata": {},
   "outputs": [
    {
     "data": {
      "text/plain": [
       "47"
      ]
     },
     "execution_count": 6,
     "metadata": {},
     "output_type": "execute_result"
    }
   ],
   "source": [
    "len(set([x['Name'] for x in ec2_amis]))"
   ]
  },
  {
   "cell_type": "markdown",
   "metadata": {},
   "source": [
    "OK, I am a little concerned/confused. There were 47 total AMIs owned by the HSE account. \n",
    "Batch is actively using 14 of these. We identified 19 out of the 47 that were probably Batch AMIs.\n",
    "When we filtered out the ones that are actively in use, we ended up with 11. \n",
    "I would have expected 5 (19 - 14 = 5). \n",
    "I checked to see if there were any duplicate names that could be throwing us off.\n",
    "We can use sets which remove duplicates and also allow interesting operations like union, intersection, delta, etc."
   ]
  },
  {
   "cell_type": "code",
   "execution_count": 7,
   "metadata": {},
   "outputs": [],
   "source": [
    "assert len(ec2_amis) == len(set([x['Name'] for x in ec2_amis])) "
   ]
  },
  {
   "cell_type": "markdown",
   "metadata": {},
   "source": [
    "It doesn't appear so. Let's look at the names of the AMIs that Batch is actively using:"
   ]
  },
  {
   "cell_type": "code",
   "execution_count": 8,
   "metadata": {},
   "outputs": [
    {
     "name": "stdout",
     "output_type": "stream",
     "text": [
      "8\n",
      "GPU-enabled AMI for Batch 201808301031\n",
      "aws-batch-image-with-sminot-refdbs-and-scratch-201809061525\n",
      "GPU-enabled AMI for Batch 201809071234\n",
      "GPU-enabled AMI for Batch 201808171141\n",
      "GPU-enabled AMI for Batch 201712141141\n",
      "GPU-enabled AMI for Batch 201807091006\n",
      "ubuntu-deep-learning-ami-10.0-for-batch-201806291507\n",
      "ubuntu-deep-learning-ami-10.0-for-batch-201806291829\n"
     ]
    }
   ],
   "source": [
    "batch_used_names = [x['Name'] for x in ec2_amis if x['ImageId'] in batch_amis]\n",
    "print(len(batch_used_names))\n",
    "for x in batch_used_names:\n",
    "    print(x)"
   ]
  },
  {
   "cell_type": "markdown",
   "metadata": {},
   "source": [
    "Now I am really confused. I would have expected this list to have 14 elements, but it only has 8.\n",
    "AHA. I remember now that in the early days of using Batch at the Hutch, some AMIs were created in the SciComp account and made public. So those would not show up in our calculations. Let's check if some of the Batch AMI IDs \n",
    "do not exist in our full list of AMIs."
   ]
  },
  {
   "cell_type": "code",
   "execution_count": 9,
   "metadata": {},
   "outputs": [
    {
     "name": "stdout",
     "output_type": "stream",
     "text": [
      "3\n"
     ]
    }
   ],
   "source": [
    "ec2_ami_ids = set([x['ImageId'] for x in ec2_amis])\n",
    "foreign_amis = set(set(batch_amis) - ec2_ami_ids)\n",
    "print(len(foreign_amis))"
   ]
  },
  {
   "cell_type": "markdown",
   "metadata": {},
   "source": [
    "OK, there are 3 AMIs that are not in our account. 8 + 3 is 11, which is what we ended up with. Let's filter those 3 out of our `unused` list:"
   ]
  },
  {
   "cell_type": "code",
   "execution_count": 10,
   "metadata": {},
   "outputs": [
    {
     "name": "stdout",
     "output_type": "stream",
     "text": [
      "11\n"
     ]
    }
   ],
   "source": [
    "unused = [x for x in unused if x['ImageId'] not in foreign_amis]\n",
    "print(len(unused))"
   ]
  },
  {
   "cell_type": "markdown",
   "metadata": {},
   "source": [
    "It looks like there were no \"foreign\" AMIs among the `unused` list. Hmm. Still not sure why we have an unexpected number of items in `unused`. Will come back to this later."
   ]
  },
  {
   "cell_type": "code",
   "execution_count": null,
   "metadata": {},
   "outputs": [],
   "source": []
  }
 ],
 "metadata": {
  "kernelspec": {
   "display_name": "Python 3",
   "language": "python",
   "name": "python3"
  },
  "language_info": {
   "codemirror_mode": {
    "name": "ipython",
    "version": 3
   },
   "file_extension": ".py",
   "mimetype": "text/x-python",
   "name": "python",
   "nbconvert_exporter": "python",
   "pygments_lexer": "ipython3",
   "version": "3.6.3"
  }
 },
 "nbformat": 4,
 "nbformat_minor": 2
}
